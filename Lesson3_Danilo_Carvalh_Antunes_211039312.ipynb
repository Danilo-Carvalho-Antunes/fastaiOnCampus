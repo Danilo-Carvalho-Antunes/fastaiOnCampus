{
  "nbformat": 4,
  "nbformat_minor": 0,
  "metadata": {
    "colab": {
      "provenance": [],
      "toc_visible": true,
      "authorship_tag": "ABX9TyMfdJmh1OwJSaXZYDLXBrwI",
      "include_colab_link": true
    },
    "kernelspec": {
      "name": "python3",
      "display_name": "Python 3"
    },
    "language_info": {
      "name": "python"
    }
  },
  "cells": [
    {
      "cell_type": "markdown",
      "metadata": {
        "id": "view-in-github",
        "colab_type": "text"
      },
      "source": [
        "<a href=\"https://colab.research.google.com/github/Danilo-Carvalho-Antunes/fastaiOnCampus/blob/main/Lesson3_Danilo_Carvalh_Antunes_211039312.ipynb\" target=\"_parent\"><img src=\"https://colab.research.google.com/assets/colab-badge.svg\" alt=\"Open In Colab\"/></a>"
      ]
    },
    {
      "cell_type": "markdown",
      "source": [
        "# Have or Have not Heart Diseases  ?\n",
        "### Lesson 3 - Student 211039312\n",
        "### Danilo Carvalho Antunes\n",
        "### Github: Danilo-Carvalho-Antunes\n",
        "\n",
        "\n",
        "# Introduction\n",
        "\n",
        "*   The main objetive of it is to create a model of machine learning capable of predict if have heart diseases. To do this is necessary to use some techniques of deep learning.\n",
        "\n",
        "*   It's made in jupyter, google Colab, Hugging Face and using Gradio\n",
        "\n"
      ],
      "metadata": {
        "id": "UGRCmEYmlt7m"
      }
    },
    {
      "cell_type": "markdown",
      "source": [
        "# Step 1 - downloading dependecies and the dataset"
      ],
      "metadata": {
        "id": "AXnGKXVcwOwW"
      }
    },
    {
      "cell_type": "code",
      "execution_count": 1,
      "metadata": {
        "id": "YhEYWUVfk7CH"
      },
      "outputs": [],
      "source": [
        "import pandas as pd"
      ]
    },
    {
      "cell_type": "code",
      "source": [
        "!pip3 install ucimlrepo"
      ],
      "metadata": {
        "colab": {
          "base_uri": "https://localhost:8080/"
        },
        "id": "LRiD7_Eqo4tT",
        "outputId": "0eaa949d-fe39-41d9-a5f2-2e920e78d1b3"
      },
      "execution_count": 2,
      "outputs": [
        {
          "output_type": "stream",
          "name": "stdout",
          "text": [
            "Collecting ucimlrepo\n",
            "  Downloading ucimlrepo-0.0.2-py3-none-any.whl (7.0 kB)\n",
            "Installing collected packages: ucimlrepo\n",
            "Successfully installed ucimlrepo-0.0.2\n"
          ]
        }
      ]
    },
    {
      "cell_type": "code",
      "source": [
        "from ucimlrepo import fetch_ucirepo, list_available_datasets\n",
        "list_available_datasets()"
      ],
      "metadata": {
        "colab": {
          "base_uri": "https://localhost:8080/"
        },
        "id": "9q__bzK0o9AT",
        "outputId": "4b798a8c-7e80-42e6-f142-4f0fb813a3d4"
      },
      "execution_count": 4,
      "outputs": [
        {
          "output_type": "stream",
          "name": "stdout",
          "text": [
            "-------------------------------------\n",
            "The following datasets are available:\n",
            "-------------------------------------\n",
            "Dataset Name                                                                            ID    \n",
            "------------                                                                            --    \n",
            "Abalone                                                                                 1     \n",
            "Adult                                                                                   2     \n",
            "Auto MPG                                                                                9     \n",
            "Automobile                                                                              10    \n",
            "Breast Cancer                                                                           14    \n",
            "Breast Cancer Wisconsin (Original)                                                      15    \n",
            "Breast Cancer Wisconsin (Diagnostic)                                                    17    \n",
            "Car Evaluation                                                                          19    \n",
            "Credit Approval                                                                         27    \n",
            "Glass Identification                                                                    42    \n",
            "Heart Disease                                                                           45    \n",
            "Ionosphere                                                                              52    \n",
            "Iris                                                                                    53    \n",
            "Letter Recognition                                                                      59    \n",
            "Liver Disorders                                                                         60    \n",
            "Lung Cancer                                                                             62    \n",
            "Mushroom                                                                                73    \n",
            "Optical Recognition of Handwritten Digits                                               80    \n",
            "Spambase                                                                                94    \n",
            "Wine                                                                                    109   \n",
            "Zoo                                                                                     111   \n",
            "Statlog (German Credit Data)                                                            144   \n",
            "Wine Quality                                                                            186   \n",
            "Parkinsons Telemonitoring                                                               189   \n",
            "Bank Marketing                                                                          222   \n",
            "ILPD (Indian Liver Patient Dataset)                                                     225   \n",
            "Thoracic Surgery Data                                                                   277   \n",
            "Diabetes 130-US hospitals for years 1999-2008                                           296   \n",
            "Diabetic Retinopathy Debrecen                                                           329   \n",
            "Heart failure clinical records                                                          519   \n",
            "Rice (Cammeo and Osmancik)                                                              545   \n",
            "Bone marrow transplant: children                                                        565   \n",
            "HCV data                                                                                571   \n",
            "Myocardial infarction complications                                                     579   \n",
            "Dry Bean Dataset                                                                        602   \n",
            "Predict students' dropout and academic success                                          697   \n",
            "Glioma Grading Clinical and Mutation Features                                           759   \n",
            "Sepsis Survival Minimal Clinical Records                                                827   \n",
            "Cirrhosis Patient Survival Prediction                                                   878   \n",
            "SUPPORT2                                                                                880   \n",
            "National Health and Nutrition Health Survey 2013-2014 (NHANES) Age Prediction Subset    887   \n",
            "AIDS Clinical Trials Group Study 175                                                    890   \n",
            "CDC Diabetes Health Indicators                                                          891   \n",
            "\n"
          ]
        }
      ]
    },
    {
      "cell_type": "code",
      "source": [
        "heart_disease = fetch_ucirepo(id=45)"
      ],
      "metadata": {
        "id": "uAhsZ91PpL25"
      },
      "execution_count": 5,
      "outputs": []
    },
    {
      "cell_type": "code",
      "source": [
        "X = heart_disease.data.features\n",
        "y = heart_disease.data.targets"
      ],
      "metadata": {
        "id": "OLaEgOEOpP16"
      },
      "execution_count": 6,
      "outputs": []
    },
    {
      "cell_type": "code",
      "source": [
        "print(heart_disease.metadata.uci_id)\n",
        "print(heart_disease.metadata.num_instances)\n",
        "print(heart_disease.metadata.additional_info.summary)"
      ],
      "metadata": {
        "colab": {
          "base_uri": "https://localhost:8080/"
        },
        "id": "TKiqCJ-zpW8Q",
        "outputId": "62864b49-c59f-4ffc-c143-db03e886ddfb"
      },
      "execution_count": 7,
      "outputs": [
        {
          "output_type": "stream",
          "name": "stdout",
          "text": [
            "45\n",
            "303\n",
            "This database contains 76 attributes, but all published experiments refer to using a subset of 14 of them.  In particular, the Cleveland database is the only one that has been used by ML researchers to date.  The \"goal\" field refers to the presence of heart disease in the patient.  It is integer valued from 0 (no presence) to 4. Experiments with the Cleveland database have concentrated on simply attempting to distinguish presence (values 1,2,3,4) from absence (value 0).  \n",
            "   \n",
            "The names and social security numbers of the patients were recently removed from the database, replaced with dummy values.\n",
            "\n",
            "One file has been \"processed\", that one containing the Cleveland database.  All four unprocessed files also exist in this directory.\n",
            "\n",
            "To see Test Costs (donated by Peter Turney), please see the folder \"Costs\" \n"
          ]
        }
      ]
    },
    {
      "cell_type": "code",
      "source": [
        "print(heart_disease.variables)"
      ],
      "metadata": {
        "colab": {
          "base_uri": "https://localhost:8080/"
        },
        "id": "A1O-lrngpiOH",
        "outputId": "2be0bdb7-b086-4000-d2a9-f0761fa201f8"
      },
      "execution_count": 8,
      "outputs": [
        {
          "output_type": "stream",
          "name": "stdout",
          "text": [
            "        name     role         type demographic  \\\n",
            "0        age  Feature      Integer         Age   \n",
            "1        sex  Feature  Categorical         Sex   \n",
            "2         cp  Feature  Categorical        None   \n",
            "3   trestbps  Feature      Integer        None   \n",
            "4       chol  Feature      Integer        None   \n",
            "5        fbs  Feature  Categorical        None   \n",
            "6    restecg  Feature  Categorical        None   \n",
            "7    thalach  Feature      Integer        None   \n",
            "8      exang  Feature  Categorical        None   \n",
            "9    oldpeak  Feature      Integer        None   \n",
            "10     slope  Feature  Categorical        None   \n",
            "11        ca  Feature      Integer        None   \n",
            "12      thal  Feature  Categorical        None   \n",
            "13       num   Target      Integer        None   \n",
            "\n",
            "                                          description  units missing_values  \n",
            "0                                                None  years             no  \n",
            "1                                                None   None             no  \n",
            "2                                                None   None             no  \n",
            "3   resting blood pressure (on admission to the ho...  mm Hg             no  \n",
            "4                                   serum cholestoral  mg/dl             no  \n",
            "5                     fasting blood sugar > 120 mg/dl   None             no  \n",
            "6                                                None   None             no  \n",
            "7                         maximum heart rate achieved   None             no  \n",
            "8                             exercise induced angina   None             no  \n",
            "9   ST depression induced by exercise relative to ...   None             no  \n",
            "10                                               None   None             no  \n",
            "11  number of major vessels (0-3) colored by flour...   None            yes  \n",
            "12                                               None   None            yes  \n",
            "13                         diagnosis of heart disease   None             no  \n"
          ]
        }
      ]
    },
    {
      "cell_type": "markdown",
      "source": [
        "![Screenshot from 2023-10-09 15-16-17.png](data:image/png;base64,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)"
      ],
      "metadata": {
        "id": "79eMLiRsp75f"
      }
    },
    {
      "cell_type": "code",
      "source": [
        "!pip install -Uqq fastbook\n",
        "import fastbook\n",
        "from fastbook import *\n",
        "from fastai.tabular.all import *"
      ],
      "metadata": {
        "colab": {
          "base_uri": "https://localhost:8080/"
        },
        "id": "VaUlb9GUqAjM",
        "outputId": "8c79e56f-ccc2-456c-c741-6083b1964aad"
      },
      "execution_count": 9,
      "outputs": [
        {
          "output_type": "stream",
          "name": "stdout",
          "text": [
            "\u001b[2K     \u001b[90m━━━━━━━━━━━━━━━━━━━━━━━━━━━━━━━━━━━━━━\u001b[0m \u001b[32m719.8/719.8 kB\u001b[0m \u001b[31m11.6 MB/s\u001b[0m eta \u001b[36m0:00:00\u001b[0m\n",
            "\u001b[2K     \u001b[90m━━━━━━━━━━━━━━━━━━━━━━━━━━━━━━━━━━━━━━━━\u001b[0m \u001b[32m7.7/7.7 MB\u001b[0m \u001b[31m72.9 MB/s\u001b[0m eta \u001b[36m0:00:00\u001b[0m\n",
            "\u001b[2K     \u001b[90m━━━━━━━━━━━━━━━━━━━━━━━━━━━━━━━━━━━━━━\u001b[0m \u001b[32m519.6/519.6 kB\u001b[0m \u001b[31m37.5 MB/s\u001b[0m eta \u001b[36m0:00:00\u001b[0m\n",
            "\u001b[2K     \u001b[90m━━━━━━━━━━━━━━━━━━━━━━━━━━━━━━━━━━━━━━━━\u001b[0m \u001b[32m1.3/1.3 MB\u001b[0m \u001b[31m57.9 MB/s\u001b[0m eta \u001b[36m0:00:00\u001b[0m\n",
            "\u001b[2K     \u001b[90m━━━━━━━━━━━━━━━━━━━━━━━━━━━━━━━━━━━━━━\u001b[0m \u001b[32m115.3/115.3 kB\u001b[0m \u001b[31m11.6 MB/s\u001b[0m eta \u001b[36m0:00:00\u001b[0m\n",
            "\u001b[2K     \u001b[90m━━━━━━━━━━━━━━━━━━━━━━━━━━━━━━━━━━━━━━\u001b[0m \u001b[32m194.1/194.1 kB\u001b[0m \u001b[31m20.1 MB/s\u001b[0m eta \u001b[36m0:00:00\u001b[0m\n",
            "\u001b[2K     \u001b[90m━━━━━━━━━━━━━━━━━━━━━━━━━━━━━━━━━━━━━━\u001b[0m \u001b[32m134.8/134.8 kB\u001b[0m \u001b[31m16.2 MB/s\u001b[0m eta \u001b[36m0:00:00\u001b[0m\n",
            "\u001b[2K     \u001b[90m━━━━━━━━━━━━━━━━━━━━━━━━━━━━━━━━━━━━━━\u001b[0m \u001b[32m295.0/295.0 kB\u001b[0m \u001b[31m28.9 MB/s\u001b[0m eta \u001b[36m0:00:00\u001b[0m\n",
            "\u001b[2K     \u001b[90m━━━━━━━━━━━━━━━━━━━━━━━━━━━━━━━━━━━━━━━━\u001b[0m \u001b[32m3.8/3.8 MB\u001b[0m \u001b[31m74.0 MB/s\u001b[0m eta \u001b[36m0:00:00\u001b[0m\n",
            "\u001b[2K     \u001b[90m━━━━━━━━━━━━━━━━━━━━━━━━━━━━━━━━━━━━━━━━\u001b[0m \u001b[32m1.3/1.3 MB\u001b[0m \u001b[31m57.4 MB/s\u001b[0m eta \u001b[36m0:00:00\u001b[0m\n",
            "\u001b[2K     \u001b[90m━━━━━━━━━━━━━━━━━━━━━━━━━━━━━━━━━━━━━━━━\u001b[0m \u001b[32m1.6/1.6 MB\u001b[0m \u001b[31m65.3 MB/s\u001b[0m eta \u001b[36m0:00:00\u001b[0m\n",
            "\u001b[?25h"
          ]
        }
      ]
    },
    {
      "cell_type": "code",
      "source": [
        "print(heart_disease.metadata)"
      ],
      "metadata": {
        "colab": {
          "base_uri": "https://localhost:8080/"
        },
        "id": "MfE0JRQIs7Nx",
        "outputId": "4d929ab6-c820-4ada-e40d-da49819b45e4"
      },
      "execution_count": 13,
      "outputs": [
        {
          "output_type": "stream",
          "name": "stdout",
          "text": [
            "{'uci_id': 45, 'name': 'Heart Disease', 'repository_url': 'https://archive.ics.uci.edu/dataset/45/heart+disease', 'data_url': 'https://archive.ics.uci.edu/static/public/45/data.csv', 'abstract': '4 databases: Cleveland, Hungary, Switzerland, and the VA Long Beach', 'area': 'Life Science', 'tasks': ['Classification'], 'characteristics': ['Multivariate'], 'num_instances': 303, 'num_features': 13, 'feature_types': ['Categorical', 'Integer', 'Real'], 'demographics': ['Age', 'Sex'], 'target_col': ['num'], 'index_col': None, 'has_missing_values': 'yes', 'missing_values_symbol': 'NaN', 'year_of_dataset_creation': 1989, 'last_updated': 'Mon Aug 28 2023', 'dataset_doi': '10.24432/C52P4X', 'creators': ['Andras Janosi', 'William Steinbrunn', 'Matthias Pfisterer', 'Robert Detrano'], 'intro_paper': {'title': 'International application of a new probability algorithm for the diagnosis of coronary artery disease.', 'authors': 'R. Detrano, A. Jánosi, W. Steinbrunn, M. Pfisterer, J. Schmid, S. Sandhu, K. Guppy, S. Lee, V. Froelicher', 'published_in': 'American Journal of Cardiology', 'year': 1989, 'url': 'https://www.semanticscholar.org/paper/a7d714f8f87bfc41351eb5ae1e5472f0ebbe0574', 'doi': None}, 'additional_info': {'summary': 'This database contains 76 attributes, but all published experiments refer to using a subset of 14 of them.  In particular, the Cleveland database is the only one that has been used by ML researchers to date.  The \"goal\" field refers to the presence of heart disease in the patient.  It is integer valued from 0 (no presence) to 4. Experiments with the Cleveland database have concentrated on simply attempting to distinguish presence (values 1,2,3,4) from absence (value 0).  \\n   \\nThe names and social security numbers of the patients were recently removed from the database, replaced with dummy values.\\n\\nOne file has been \"processed\", that one containing the Cleveland database.  All four unprocessed files also exist in this directory.\\n\\nTo see Test Costs (donated by Peter Turney), please see the folder \"Costs\" ', 'purpose': None, 'funded_by': None, 'instances_represent': None, 'recommended_data_splits': None, 'sensitive_data': None, 'preprocessing_description': None, 'variable_info': 'Only 14 attributes used:\\r\\n      1. #3  (age)       \\r\\n      2. #4  (sex)       \\r\\n      3. #9  (cp)        \\r\\n      4. #10 (trestbps)  \\r\\n      5. #12 (chol)      \\r\\n      6. #16 (fbs)       \\r\\n      7. #19 (restecg)   \\r\\n      8. #32 (thalach)   \\r\\n      9. #38 (exang)     \\r\\n      10. #40 (oldpeak)   \\r\\n      11. #41 (slope)     \\r\\n      12. #44 (ca)        \\r\\n      13. #51 (thal)      \\r\\n      14. #58 (num)       (the predicted attribute)\\r\\n\\r\\nComplete attribute documentation:\\r\\n      1 id: patient identification number\\r\\n      2 ccf: social security number (I replaced this with a dummy value of 0)\\r\\n      3 age: age in years\\r\\n      4 sex: sex (1 = male; 0 = female)\\r\\n      5 painloc: chest pain location (1 = substernal; 0 = otherwise)\\r\\n      6 painexer (1 = provoked by exertion; 0 = otherwise)\\r\\n      7 relrest (1 = relieved after rest; 0 = otherwise)\\r\\n      8 pncaden (sum of 5, 6, and 7)\\r\\n      9 cp: chest pain type\\r\\n        -- Value 1: typical angina\\r\\n        -- Value 2: atypical angina\\r\\n        -- Value 3: non-anginal pain\\r\\n        -- Value 4: asymptomatic\\r\\n     10 trestbps: resting blood pressure (in mm Hg on admission to the hospital)\\r\\n     11 htn\\r\\n     12 chol: serum cholestoral in mg/dl\\r\\n     13 smoke: I believe this is 1 = yes; 0 = no (is or is not a smoker)\\r\\n     14 cigs (cigarettes per day)\\r\\n     15 years (number of years as a smoker)\\r\\n     16 fbs: (fasting blood sugar > 120 mg/dl)  (1 = true; 0 = false)\\r\\n     17 dm (1 = history of diabetes; 0 = no such history)\\r\\n     18 famhist: family history of coronary artery disease (1 = yes; 0 = no)\\r\\n     19 restecg: resting electrocardiographic results\\r\\n        -- Value 0: normal\\r\\n        -- Value 1: having ST-T wave abnormality (T wave inversions and/or ST elevation or depression of > 0.05 mV)\\r\\n        -- Value 2: showing probable or definite left ventricular hypertrophy by Estes\\' criteria\\r\\n     20 ekgmo (month of exercise ECG reading)\\r\\n     21 ekgday(day of exercise ECG reading)\\r\\n     22 ekgyr (year of exercise ECG reading)\\r\\n     23 dig (digitalis used furing exercise ECG: 1 = yes; 0 = no)\\r\\n     24 prop (Beta blocker used during exercise ECG: 1 = yes; 0 = no)\\r\\n     25 nitr (nitrates used during exercise ECG: 1 = yes; 0 = no)\\r\\n     26 pro (calcium channel blocker used during exercise ECG: 1 = yes; 0 = no)\\r\\n     27 diuretic (diuretic used used during exercise ECG: 1 = yes; 0 = no)\\r\\n     28 proto: exercise protocol\\r\\n          1 = Bruce     \\r\\n          2 = Kottus\\r\\n          3 = McHenry\\r\\n          4 = fast Balke\\r\\n          5 = Balke\\r\\n          6 = Noughton \\r\\n          7 = bike 150 kpa min/min  (Not sure if \"kpa min/min\" is what was written!)\\r\\n          8 = bike 125 kpa min/min  \\r\\n          9 = bike 100 kpa min/min\\r\\n         10 = bike 75 kpa min/min\\r\\n         11 = bike 50 kpa min/min\\r\\n         12 = arm ergometer\\r\\n     29 thaldur: duration of exercise test in minutes\\r\\n     30 thaltime: time when ST measure depression was noted\\r\\n     31 met: mets achieved\\r\\n     32 thalach: maximum heart rate achieved\\r\\n     33 thalrest: resting heart rate\\r\\n     34 tpeakbps: peak exercise blood pressure (first of 2 parts)\\r\\n     35 tpeakbpd: peak exercise blood pressure (second of 2 parts)\\r\\n     36 dummy\\r\\n     37 trestbpd: resting blood pressure\\r\\n     38 exang: exercise induced angina (1 = yes; 0 = no)\\r\\n     39 xhypo: (1 = yes; 0 = no)\\r\\n     40 oldpeak = ST depression induced by exercise relative to rest\\r\\n     41 slope: the slope of the peak exercise ST segment\\r\\n        -- Value 1: upsloping\\r\\n        -- Value 2: flat\\r\\n        -- Value 3: downsloping\\r\\n     42 rldv5: height at rest\\r\\n     43 rldv5e: height at peak exercise\\r\\n     44 ca: number of major vessels (0-3) colored by flourosopy\\r\\n     45 restckm: irrelevant\\r\\n     46 exerckm: irrelevant\\r\\n     47 restef: rest raidonuclid (sp?) ejection fraction\\r\\n     48 restwm: rest wall (sp?) motion abnormality\\r\\n        0 = none\\r\\n        1 = mild or moderate\\r\\n        2 = moderate or severe\\r\\n        3 = akinesis or dyskmem (sp?)\\r\\n     49 exeref: exercise radinalid (sp?) ejection fraction\\r\\n     50 exerwm: exercise wall (sp?) motion \\r\\n     51 thal: 3 = normal; 6 = fixed defect; 7 = reversable defect\\r\\n     52 thalsev: not used\\r\\n     53 thalpul: not used\\r\\n     54 earlobe: not used\\r\\n     55 cmo: month of cardiac cath (sp?)  (perhaps \"call\")\\r\\n     56 cday: day of cardiac cath (sp?)\\r\\n     57 cyr: year of cardiac cath (sp?)\\r\\n     58 num: diagnosis of heart disease (angiographic disease status)\\r\\n        -- Value 0: < 50% diameter narrowing\\r\\n        -- Value 1: > 50% diameter narrowing\\r\\n        (in any major vessel: attributes 59 through 68 are vessels)\\r\\n     59 lmt\\r\\n     60 ladprox\\r\\n     61 laddist\\r\\n     62 diag\\r\\n     63 cxmain\\r\\n     64 ramus\\r\\n     65 om1\\r\\n     66 om2\\r\\n     67 rcaprox\\r\\n     68 rcadist\\r\\n     69 lvx1: not used\\r\\n     70 lvx2: not used\\r\\n     71 lvx3: not used\\r\\n     72 lvx4: not used\\r\\n     73 lvf: not used\\r\\n     74 cathef: not used\\r\\n     75 junk: not used\\r\\n     76 name: last name of patient  (I replaced this with the dummy string \"name\")', 'citation': None}}\n"
          ]
        }
      ]
    },
    {
      "cell_type": "code",
      "source": [
        "!pip install fastai --upgrade"
      ],
      "metadata": {
        "colab": {
          "base_uri": "https://localhost:8080/"
        },
        "id": "PVwsf6zPvKbL",
        "outputId": "84ed9933-b9c7-4466-9ea2-f96876f3dcb7"
      },
      "execution_count": 17,
      "outputs": [
        {
          "output_type": "stream",
          "name": "stdout",
          "text": [
            "Requirement already satisfied: fastai in /usr/local/lib/python3.10/dist-packages (2.7.12)\n",
            "Requirement already satisfied: pip in /usr/local/lib/python3.10/dist-packages (from fastai) (23.1.2)\n",
            "Requirement already satisfied: packaging in /usr/local/lib/python3.10/dist-packages (from fastai) (23.2)\n",
            "Requirement already satisfied: fastdownload<2,>=0.0.5 in /usr/local/lib/python3.10/dist-packages (from fastai) (0.0.7)\n",
            "Requirement already satisfied: fastcore<1.6,>=1.5.29 in /usr/local/lib/python3.10/dist-packages (from fastai) (1.5.29)\n",
            "Requirement already satisfied: torchvision>=0.8.2 in /usr/local/lib/python3.10/dist-packages (from fastai) (0.15.2+cu118)\n",
            "Requirement already satisfied: matplotlib in /usr/local/lib/python3.10/dist-packages (from fastai) (3.7.1)\n",
            "Requirement already satisfied: pandas in /usr/local/lib/python3.10/dist-packages (from fastai) (1.5.3)\n",
            "Requirement already satisfied: requests in /usr/local/lib/python3.10/dist-packages (from fastai) (2.31.0)\n",
            "Requirement already satisfied: pyyaml in /usr/local/lib/python3.10/dist-packages (from fastai) (6.0.1)\n",
            "Requirement already satisfied: fastprogress>=0.2.4 in /usr/local/lib/python3.10/dist-packages (from fastai) (1.0.3)\n",
            "Requirement already satisfied: pillow>6.0.0 in /usr/local/lib/python3.10/dist-packages (from fastai) (9.4.0)\n",
            "Requirement already satisfied: scikit-learn in /usr/local/lib/python3.10/dist-packages (from fastai) (1.2.2)\n",
            "Requirement already satisfied: scipy in /usr/local/lib/python3.10/dist-packages (from fastai) (1.11.3)\n",
            "Requirement already satisfied: spacy<4 in /usr/local/lib/python3.10/dist-packages (from fastai) (3.6.1)\n",
            "Requirement already satisfied: torch<2.1,>=1.7 in /usr/local/lib/python3.10/dist-packages (from fastai) (2.0.1+cu118)\n",
            "Requirement already satisfied: spacy-legacy<3.1.0,>=3.0.11 in /usr/local/lib/python3.10/dist-packages (from spacy<4->fastai) (3.0.12)\n",
            "Requirement already satisfied: spacy-loggers<2.0.0,>=1.0.0 in /usr/local/lib/python3.10/dist-packages (from spacy<4->fastai) (1.0.5)\n",
            "Requirement already satisfied: murmurhash<1.1.0,>=0.28.0 in /usr/local/lib/python3.10/dist-packages (from spacy<4->fastai) (1.0.10)\n",
            "Requirement already satisfied: cymem<2.1.0,>=2.0.2 in /usr/local/lib/python3.10/dist-packages (from spacy<4->fastai) (2.0.8)\n",
            "Requirement already satisfied: preshed<3.1.0,>=3.0.2 in /usr/local/lib/python3.10/dist-packages (from spacy<4->fastai) (3.0.9)\n",
            "Requirement already satisfied: thinc<8.2.0,>=8.1.8 in /usr/local/lib/python3.10/dist-packages (from spacy<4->fastai) (8.1.12)\n",
            "Requirement already satisfied: wasabi<1.2.0,>=0.9.1 in /usr/local/lib/python3.10/dist-packages (from spacy<4->fastai) (1.1.2)\n",
            "Requirement already satisfied: srsly<3.0.0,>=2.4.3 in /usr/local/lib/python3.10/dist-packages (from spacy<4->fastai) (2.4.8)\n",
            "Requirement already satisfied: catalogue<2.1.0,>=2.0.6 in /usr/local/lib/python3.10/dist-packages (from spacy<4->fastai) (2.0.10)\n",
            "Requirement already satisfied: typer<0.10.0,>=0.3.0 in /usr/local/lib/python3.10/dist-packages (from spacy<4->fastai) (0.9.0)\n",
            "Requirement already satisfied: pathy>=0.10.0 in /usr/local/lib/python3.10/dist-packages (from spacy<4->fastai) (0.10.2)\n",
            "Requirement already satisfied: smart-open<7.0.0,>=5.2.1 in /usr/local/lib/python3.10/dist-packages (from spacy<4->fastai) (6.4.0)\n",
            "Requirement already satisfied: tqdm<5.0.0,>=4.38.0 in /usr/local/lib/python3.10/dist-packages (from spacy<4->fastai) (4.66.1)\n",
            "Requirement already satisfied: numpy>=1.15.0 in /usr/local/lib/python3.10/dist-packages (from spacy<4->fastai) (1.23.5)\n",
            "Requirement already satisfied: pydantic!=1.8,!=1.8.1,<3.0.0,>=1.7.4 in /usr/local/lib/python3.10/dist-packages (from spacy<4->fastai) (1.10.13)\n",
            "Requirement already satisfied: jinja2 in /usr/local/lib/python3.10/dist-packages (from spacy<4->fastai) (3.1.2)\n",
            "Requirement already satisfied: setuptools in /usr/local/lib/python3.10/dist-packages (from spacy<4->fastai) (67.7.2)\n",
            "Requirement already satisfied: langcodes<4.0.0,>=3.2.0 in /usr/local/lib/python3.10/dist-packages (from spacy<4->fastai) (3.3.0)\n",
            "Requirement already satisfied: charset-normalizer<4,>=2 in /usr/local/lib/python3.10/dist-packages (from requests->fastai) (3.3.0)\n",
            "Requirement already satisfied: idna<4,>=2.5 in /usr/local/lib/python3.10/dist-packages (from requests->fastai) (3.4)\n",
            "Requirement already satisfied: urllib3<3,>=1.21.1 in /usr/local/lib/python3.10/dist-packages (from requests->fastai) (2.0.6)\n",
            "Requirement already satisfied: certifi>=2017.4.17 in /usr/local/lib/python3.10/dist-packages (from requests->fastai) (2023.7.22)\n",
            "Requirement already satisfied: filelock in /usr/local/lib/python3.10/dist-packages (from torch<2.1,>=1.7->fastai) (3.12.4)\n",
            "Requirement already satisfied: typing-extensions in /usr/local/lib/python3.10/dist-packages (from torch<2.1,>=1.7->fastai) (4.5.0)\n",
            "Requirement already satisfied: sympy in /usr/local/lib/python3.10/dist-packages (from torch<2.1,>=1.7->fastai) (1.12)\n",
            "Requirement already satisfied: networkx in /usr/local/lib/python3.10/dist-packages (from torch<2.1,>=1.7->fastai) (3.1)\n",
            "Requirement already satisfied: triton==2.0.0 in /usr/local/lib/python3.10/dist-packages (from torch<2.1,>=1.7->fastai) (2.0.0)\n",
            "Requirement already satisfied: cmake in /usr/local/lib/python3.10/dist-packages (from triton==2.0.0->torch<2.1,>=1.7->fastai) (3.27.6)\n",
            "Requirement already satisfied: lit in /usr/local/lib/python3.10/dist-packages (from triton==2.0.0->torch<2.1,>=1.7->fastai) (17.0.2)\n",
            "Requirement already satisfied: contourpy>=1.0.1 in /usr/local/lib/python3.10/dist-packages (from matplotlib->fastai) (1.1.1)\n",
            "Requirement already satisfied: cycler>=0.10 in /usr/local/lib/python3.10/dist-packages (from matplotlib->fastai) (0.12.0)\n",
            "Requirement already satisfied: fonttools>=4.22.0 in /usr/local/lib/python3.10/dist-packages (from matplotlib->fastai) (4.43.0)\n",
            "Requirement already satisfied: kiwisolver>=1.0.1 in /usr/local/lib/python3.10/dist-packages (from matplotlib->fastai) (1.4.5)\n",
            "Requirement already satisfied: pyparsing>=2.3.1 in /usr/local/lib/python3.10/dist-packages (from matplotlib->fastai) (3.1.1)\n",
            "Requirement already satisfied: python-dateutil>=2.7 in /usr/local/lib/python3.10/dist-packages (from matplotlib->fastai) (2.8.2)\n",
            "Requirement already satisfied: pytz>=2020.1 in /usr/local/lib/python3.10/dist-packages (from pandas->fastai) (2023.3.post1)\n",
            "Requirement already satisfied: joblib>=1.1.1 in /usr/local/lib/python3.10/dist-packages (from scikit-learn->fastai) (1.3.2)\n",
            "Requirement already satisfied: threadpoolctl>=2.0.0 in /usr/local/lib/python3.10/dist-packages (from scikit-learn->fastai) (3.2.0)\n",
            "Requirement already satisfied: six>=1.5 in /usr/local/lib/python3.10/dist-packages (from python-dateutil>=2.7->matplotlib->fastai) (1.16.0)\n",
            "Requirement already satisfied: blis<0.8.0,>=0.7.8 in /usr/local/lib/python3.10/dist-packages (from thinc<8.2.0,>=8.1.8->spacy<4->fastai) (0.7.11)\n",
            "Requirement already satisfied: confection<1.0.0,>=0.0.1 in /usr/local/lib/python3.10/dist-packages (from thinc<8.2.0,>=8.1.8->spacy<4->fastai) (0.1.3)\n",
            "Requirement already satisfied: click<9.0.0,>=7.1.1 in /usr/local/lib/python3.10/dist-packages (from typer<0.10.0,>=0.3.0->spacy<4->fastai) (8.1.7)\n",
            "Requirement already satisfied: MarkupSafe>=2.0 in /usr/local/lib/python3.10/dist-packages (from jinja2->spacy<4->fastai) (2.1.3)\n",
            "Requirement already satisfied: mpmath>=0.19 in /usr/local/lib/python3.10/dist-packages (from sympy->torch<2.1,>=1.7->fastai) (1.3.0)\n"
          ]
        }
      ]
    },
    {
      "cell_type": "code",
      "source": [
        "import fastai\n",
        "\n",
        "url = \"https://archive.ics.uci.edu/static/public/45/data.csv\"\n",
        "with open(\"data.csv\", \"wb\") as f:\n",
        "    f.write(requests.get(url).content)"
      ],
      "metadata": {
        "id": "PNhV90c9ue56"
      },
      "execution_count": 28,
      "outputs": []
    },
    {
      "cell_type": "markdown",
      "source": [
        "# Step 2 - Training the model and making the DataBlock"
      ],
      "metadata": {
        "id": "toVjM2u2xJB6"
      }
    },
    {
      "cell_type": "code",
      "source": [
        "doc(untar_data)"
      ],
      "metadata": {
        "colab": {
          "base_uri": "https://localhost:8080/"
        },
        "id": "ylLjw8Q2rqGY",
        "outputId": "11448903-8ce8-4431-ec25-2b6762446f8e"
      },
      "execution_count": 35,
      "outputs": [
        {
          "output_type": "stream",
          "name": "stdout",
          "text": [
            "untar_data(url: 'str', archive: 'Path' = None, data: 'Path' = None, c_key: 'str' = 'data', force_download: 'bool' = False, base: 'str' = '~/.fastai') -> 'Path'\n",
            "Download `url` using `FastDownload.get`\n",
            "\n",
            "To get a prettier result with hyperlinks to source code and documentation, install nbdev: pip install nbdev\n"
          ]
        }
      ]
    },
    {
      "cell_type": "code",
      "source": [
        "path = Path('models')"
      ],
      "metadata": {
        "id": "mj3iDUW8089y"
      },
      "execution_count": 70,
      "outputs": []
    },
    {
      "cell_type": "code",
      "source": [
        "df = pd.read_csv(path/'data.csv')"
      ],
      "metadata": {
        "id": "N-fH8rWD198h"
      },
      "execution_count": 72,
      "outputs": []
    },
    {
      "cell_type": "code",
      "source": [
        "df.head()"
      ],
      "metadata": {
        "colab": {
          "base_uri": "https://localhost:8080/",
          "height": 206
        },
        "id": "EFYhGjDq2T7H",
        "outputId": "c8d25850-1042-46dc-dcc8-3f7e9e134801"
      },
      "execution_count": 73,
      "outputs": [
        {
          "output_type": "execute_result",
          "data": {
            "text/plain": [
              "   age  sex  cp  trestbps  chol  fbs  restecg  thalach  exang  oldpeak  slope  \\\n",
              "0   63    1   1       145   233    1        2      150      0      2.3      3   \n",
              "1   67    1   4       160   286    0        2      108      1      1.5      2   \n",
              "2   67    1   4       120   229    0        2      129      1      2.6      2   \n",
              "3   37    1   3       130   250    0        0      187      0      3.5      3   \n",
              "4   41    0   2       130   204    0        2      172      0      1.4      1   \n",
              "\n",
              "    ca  thal  num  \n",
              "0  0.0   6.0    0  \n",
              "1  3.0   3.0    2  \n",
              "2  2.0   7.0    1  \n",
              "3  0.0   3.0    0  \n",
              "4  0.0   3.0    0  "
            ],
            "text/html": [
              "\n",
              "  <div id=\"df-e807d2d7-f74e-4512-981a-d891350e1338\" class=\"colab-df-container\">\n",
              "    <div>\n",
              "<style scoped>\n",
              "    .dataframe tbody tr th:only-of-type {\n",
              "        vertical-align: middle;\n",
              "    }\n",
              "\n",
              "    .dataframe tbody tr th {\n",
              "        vertical-align: top;\n",
              "    }\n",
              "\n",
              "    .dataframe thead th {\n",
              "        text-align: right;\n",
              "    }\n",
              "</style>\n",
              "<table border=\"1\" class=\"dataframe\">\n",
              "  <thead>\n",
              "    <tr style=\"text-align: right;\">\n",
              "      <th></th>\n",
              "      <th>age</th>\n",
              "      <th>sex</th>\n",
              "      <th>cp</th>\n",
              "      <th>trestbps</th>\n",
              "      <th>chol</th>\n",
              "      <th>fbs</th>\n",
              "      <th>restecg</th>\n",
              "      <th>thalach</th>\n",
              "      <th>exang</th>\n",
              "      <th>oldpeak</th>\n",
              "      <th>slope</th>\n",
              "      <th>ca</th>\n",
              "      <th>thal</th>\n",
              "      <th>num</th>\n",
              "    </tr>\n",
              "  </thead>\n",
              "  <tbody>\n",
              "    <tr>\n",
              "      <th>0</th>\n",
              "      <td>63</td>\n",
              "      <td>1</td>\n",
              "      <td>1</td>\n",
              "      <td>145</td>\n",
              "      <td>233</td>\n",
              "      <td>1</td>\n",
              "      <td>2</td>\n",
              "      <td>150</td>\n",
              "      <td>0</td>\n",
              "      <td>2.3</td>\n",
              "      <td>3</td>\n",
              "      <td>0.0</td>\n",
              "      <td>6.0</td>\n",
              "      <td>0</td>\n",
              "    </tr>\n",
              "    <tr>\n",
              "      <th>1</th>\n",
              "      <td>67</td>\n",
              "      <td>1</td>\n",
              "      <td>4</td>\n",
              "      <td>160</td>\n",
              "      <td>286</td>\n",
              "      <td>0</td>\n",
              "      <td>2</td>\n",
              "      <td>108</td>\n",
              "      <td>1</td>\n",
              "      <td>1.5</td>\n",
              "      <td>2</td>\n",
              "      <td>3.0</td>\n",
              "      <td>3.0</td>\n",
              "      <td>2</td>\n",
              "    </tr>\n",
              "    <tr>\n",
              "      <th>2</th>\n",
              "      <td>67</td>\n",
              "      <td>1</td>\n",
              "      <td>4</td>\n",
              "      <td>120</td>\n",
              "      <td>229</td>\n",
              "      <td>0</td>\n",
              "      <td>2</td>\n",
              "      <td>129</td>\n",
              "      <td>1</td>\n",
              "      <td>2.6</td>\n",
              "      <td>2</td>\n",
              "      <td>2.0</td>\n",
              "      <td>7.0</td>\n",
              "      <td>1</td>\n",
              "    </tr>\n",
              "    <tr>\n",
              "      <th>3</th>\n",
              "      <td>37</td>\n",
              "      <td>1</td>\n",
              "      <td>3</td>\n",
              "      <td>130</td>\n",
              "      <td>250</td>\n",
              "      <td>0</td>\n",
              "      <td>0</td>\n",
              "      <td>187</td>\n",
              "      <td>0</td>\n",
              "      <td>3.5</td>\n",
              "      <td>3</td>\n",
              "      <td>0.0</td>\n",
              "      <td>3.0</td>\n",
              "      <td>0</td>\n",
              "    </tr>\n",
              "    <tr>\n",
              "      <th>4</th>\n",
              "      <td>41</td>\n",
              "      <td>0</td>\n",
              "      <td>2</td>\n",
              "      <td>130</td>\n",
              "      <td>204</td>\n",
              "      <td>0</td>\n",
              "      <td>2</td>\n",
              "      <td>172</td>\n",
              "      <td>0</td>\n",
              "      <td>1.4</td>\n",
              "      <td>1</td>\n",
              "      <td>0.0</td>\n",
              "      <td>3.0</td>\n",
              "      <td>0</td>\n",
              "    </tr>\n",
              "  </tbody>\n",
              "</table>\n",
              "</div>\n",
              "    <div class=\"colab-df-buttons\">\n",
              "\n",
              "  <div class=\"colab-df-container\">\n",
              "    <button class=\"colab-df-convert\" onclick=\"convertToInteractive('df-e807d2d7-f74e-4512-981a-d891350e1338')\"\n",
              "            title=\"Convert this dataframe to an interactive table.\"\n",
              "            style=\"display:none;\">\n",
              "\n",
              "  <svg xmlns=\"http://www.w3.org/2000/svg\" height=\"24px\" viewBox=\"0 -960 960 960\">\n",
              "    <path d=\"M120-120v-720h720v720H120Zm60-500h600v-160H180v160Zm220 220h160v-160H400v160Zm0 220h160v-160H400v160ZM180-400h160v-160H180v160Zm440 0h160v-160H620v160ZM180-180h160v-160H180v160Zm440 0h160v-160H620v160Z\"/>\n",
              "  </svg>\n",
              "    </button>\n",
              "\n",
              "  <style>\n",
              "    .colab-df-container {\n",
              "      display:flex;\n",
              "      gap: 12px;\n",
              "    }\n",
              "\n",
              "    .colab-df-convert {\n",
              "      background-color: #E8F0FE;\n",
              "      border: none;\n",
              "      border-radius: 50%;\n",
              "      cursor: pointer;\n",
              "      display: none;\n",
              "      fill: #1967D2;\n",
              "      height: 32px;\n",
              "      padding: 0 0 0 0;\n",
              "      width: 32px;\n",
              "    }\n",
              "\n",
              "    .colab-df-convert:hover {\n",
              "      background-color: #E2EBFA;\n",
              "      box-shadow: 0px 1px 2px rgba(60, 64, 67, 0.3), 0px 1px 3px 1px rgba(60, 64, 67, 0.15);\n",
              "      fill: #174EA6;\n",
              "    }\n",
              "\n",
              "    .colab-df-buttons div {\n",
              "      margin-bottom: 4px;\n",
              "    }\n",
              "\n",
              "    [theme=dark] .colab-df-convert {\n",
              "      background-color: #3B4455;\n",
              "      fill: #D2E3FC;\n",
              "    }\n",
              "\n",
              "    [theme=dark] .colab-df-convert:hover {\n",
              "      background-color: #434B5C;\n",
              "      box-shadow: 0px 1px 3px 1px rgba(0, 0, 0, 0.15);\n",
              "      filter: drop-shadow(0px 1px 2px rgba(0, 0, 0, 0.3));\n",
              "      fill: #FFFFFF;\n",
              "    }\n",
              "  </style>\n",
              "\n",
              "    <script>\n",
              "      const buttonEl =\n",
              "        document.querySelector('#df-e807d2d7-f74e-4512-981a-d891350e1338 button.colab-df-convert');\n",
              "      buttonEl.style.display =\n",
              "        google.colab.kernel.accessAllowed ? 'block' : 'none';\n",
              "\n",
              "      async function convertToInteractive(key) {\n",
              "        const element = document.querySelector('#df-e807d2d7-f74e-4512-981a-d891350e1338');\n",
              "        const dataTable =\n",
              "          await google.colab.kernel.invokeFunction('convertToInteractive',\n",
              "                                                    [key], {});\n",
              "        if (!dataTable) return;\n",
              "\n",
              "        const docLinkHtml = 'Like what you see? Visit the ' +\n",
              "          '<a target=\"_blank\" href=https://colab.research.google.com/notebooks/data_table.ipynb>data table notebook</a>'\n",
              "          + ' to learn more about interactive tables.';\n",
              "        element.innerHTML = '';\n",
              "        dataTable['output_type'] = 'display_data';\n",
              "        await google.colab.output.renderOutput(dataTable, element);\n",
              "        const docLink = document.createElement('div');\n",
              "        docLink.innerHTML = docLinkHtml;\n",
              "        element.appendChild(docLink);\n",
              "      }\n",
              "    </script>\n",
              "  </div>\n",
              "\n",
              "\n",
              "<div id=\"df-4827a289-061f-4ee8-bd5d-8f40eb1a3f07\">\n",
              "  <button class=\"colab-df-quickchart\" onclick=\"quickchart('df-4827a289-061f-4ee8-bd5d-8f40eb1a3f07')\"\n",
              "            title=\"Suggest charts.\"\n",
              "            style=\"display:none;\">\n",
              "\n",
              "<svg xmlns=\"http://www.w3.org/2000/svg\" height=\"24px\"viewBox=\"0 0 24 24\"\n",
              "     width=\"24px\">\n",
              "    <g>\n",
              "        <path d=\"M19 3H5c-1.1 0-2 .9-2 2v14c0 1.1.9 2 2 2h14c1.1 0 2-.9 2-2V5c0-1.1-.9-2-2-2zM9 17H7v-7h2v7zm4 0h-2V7h2v10zm4 0h-2v-4h2v4z\"/>\n",
              "    </g>\n",
              "</svg>\n",
              "  </button>\n",
              "\n",
              "<style>\n",
              "  .colab-df-quickchart {\n",
              "      --bg-color: #E8F0FE;\n",
              "      --fill-color: #1967D2;\n",
              "      --hover-bg-color: #E2EBFA;\n",
              "      --hover-fill-color: #174EA6;\n",
              "      --disabled-fill-color: #AAA;\n",
              "      --disabled-bg-color: #DDD;\n",
              "  }\n",
              "\n",
              "  [theme=dark] .colab-df-quickchart {\n",
              "      --bg-color: #3B4455;\n",
              "      --fill-color: #D2E3FC;\n",
              "      --hover-bg-color: #434B5C;\n",
              "      --hover-fill-color: #FFFFFF;\n",
              "      --disabled-bg-color: #3B4455;\n",
              "      --disabled-fill-color: #666;\n",
              "  }\n",
              "\n",
              "  .colab-df-quickchart {\n",
              "    background-color: var(--bg-color);\n",
              "    border: none;\n",
              "    border-radius: 50%;\n",
              "    cursor: pointer;\n",
              "    display: none;\n",
              "    fill: var(--fill-color);\n",
              "    height: 32px;\n",
              "    padding: 0;\n",
              "    width: 32px;\n",
              "  }\n",
              "\n",
              "  .colab-df-quickchart:hover {\n",
              "    background-color: var(--hover-bg-color);\n",
              "    box-shadow: 0 1px 2px rgba(60, 64, 67, 0.3), 0 1px 3px 1px rgba(60, 64, 67, 0.15);\n",
              "    fill: var(--button-hover-fill-color);\n",
              "  }\n",
              "\n",
              "  .colab-df-quickchart-complete:disabled,\n",
              "  .colab-df-quickchart-complete:disabled:hover {\n",
              "    background-color: var(--disabled-bg-color);\n",
              "    fill: var(--disabled-fill-color);\n",
              "    box-shadow: none;\n",
              "  }\n",
              "\n",
              "  .colab-df-spinner {\n",
              "    border: 2px solid var(--fill-color);\n",
              "    border-color: transparent;\n",
              "    border-bottom-color: var(--fill-color);\n",
              "    animation:\n",
              "      spin 1s steps(1) infinite;\n",
              "  }\n",
              "\n",
              "  @keyframes spin {\n",
              "    0% {\n",
              "      border-color: transparent;\n",
              "      border-bottom-color: var(--fill-color);\n",
              "      border-left-color: var(--fill-color);\n",
              "    }\n",
              "    20% {\n",
              "      border-color: transparent;\n",
              "      border-left-color: var(--fill-color);\n",
              "      border-top-color: var(--fill-color);\n",
              "    }\n",
              "    30% {\n",
              "      border-color: transparent;\n",
              "      border-left-color: var(--fill-color);\n",
              "      border-top-color: var(--fill-color);\n",
              "      border-right-color: var(--fill-color);\n",
              "    }\n",
              "    40% {\n",
              "      border-color: transparent;\n",
              "      border-right-color: var(--fill-color);\n",
              "      border-top-color: var(--fill-color);\n",
              "    }\n",
              "    60% {\n",
              "      border-color: transparent;\n",
              "      border-right-color: var(--fill-color);\n",
              "    }\n",
              "    80% {\n",
              "      border-color: transparent;\n",
              "      border-right-color: var(--fill-color);\n",
              "      border-bottom-color: var(--fill-color);\n",
              "    }\n",
              "    90% {\n",
              "      border-color: transparent;\n",
              "      border-bottom-color: var(--fill-color);\n",
              "    }\n",
              "  }\n",
              "</style>\n",
              "\n",
              "  <script>\n",
              "    async function quickchart(key) {\n",
              "      const quickchartButtonEl =\n",
              "        document.querySelector('#' + key + ' button');\n",
              "      quickchartButtonEl.disabled = true;  // To prevent multiple clicks.\n",
              "      quickchartButtonEl.classList.add('colab-df-spinner');\n",
              "      try {\n",
              "        const charts = await google.colab.kernel.invokeFunction(\n",
              "            'suggestCharts', [key], {});\n",
              "      } catch (error) {\n",
              "        console.error('Error during call to suggestCharts:', error);\n",
              "      }\n",
              "      quickchartButtonEl.classList.remove('colab-df-spinner');\n",
              "      quickchartButtonEl.classList.add('colab-df-quickchart-complete');\n",
              "    }\n",
              "    (() => {\n",
              "      let quickchartButtonEl =\n",
              "        document.querySelector('#df-4827a289-061f-4ee8-bd5d-8f40eb1a3f07 button');\n",
              "      quickchartButtonEl.style.display =\n",
              "        google.colab.kernel.accessAllowed ? 'block' : 'none';\n",
              "    })();\n",
              "  </script>\n",
              "</div>\n",
              "    </div>\n",
              "  </div>\n"
            ]
          },
          "metadata": {},
          "execution_count": 73
        }
      ]
    },
    {
      "cell_type": "code",
      "source": [
        "df.shape"
      ],
      "metadata": {
        "colab": {
          "base_uri": "https://localhost:8080/"
        },
        "id": "2uo85IiN2Ybx",
        "outputId": "44312537-dfe0-425e-aab4-223df349becc"
      },
      "execution_count": 74,
      "outputs": [
        {
          "output_type": "execute_result",
          "data": {
            "text/plain": [
              "(303, 14)"
            ]
          },
          "metadata": {},
          "execution_count": 74
        }
      ]
    },
    {
      "cell_type": "code",
      "source": [
        "df.nunique"
      ],
      "metadata": {
        "colab": {
          "base_uri": "https://localhost:8080/"
        },
        "id": "ejEKERxo2v1S",
        "outputId": "f88eb9c9-7b45-4594-8f8f-fe2dd0ea1b75"
      },
      "execution_count": 75,
      "outputs": [
        {
          "output_type": "execute_result",
          "data": {
            "text/plain": [
              "<bound method DataFrame.nunique of      age  sex  cp  trestbps  chol  fbs  restecg  thalach  exang  oldpeak  \\\n",
              "0     63    1   1       145   233    1        2      150      0      2.3   \n",
              "1     67    1   4       160   286    0        2      108      1      1.5   \n",
              "2     67    1   4       120   229    0        2      129      1      2.6   \n",
              "3     37    1   3       130   250    0        0      187      0      3.5   \n",
              "4     41    0   2       130   204    0        2      172      0      1.4   \n",
              "..   ...  ...  ..       ...   ...  ...      ...      ...    ...      ...   \n",
              "298   45    1   1       110   264    0        0      132      0      1.2   \n",
              "299   68    1   4       144   193    1        0      141      0      3.4   \n",
              "300   57    1   4       130   131    0        0      115      1      1.2   \n",
              "301   57    0   2       130   236    0        2      174      0      0.0   \n",
              "302   38    1   3       138   175    0        0      173      0      0.0   \n",
              "\n",
              "     slope   ca  thal  num  \n",
              "0        3  0.0   6.0    0  \n",
              "1        2  3.0   3.0    2  \n",
              "2        2  2.0   7.0    1  \n",
              "3        3  0.0   3.0    0  \n",
              "4        1  0.0   3.0    0  \n",
              "..     ...  ...   ...  ...  \n",
              "298      2  0.0   7.0    1  \n",
              "299      2  2.0   7.0    2  \n",
              "300      2  1.0   7.0    3  \n",
              "301      2  1.0   3.0    1  \n",
              "302      1  NaN   3.0    0  \n",
              "\n",
              "[303 rows x 14 columns]>"
            ]
          },
          "metadata": {},
          "execution_count": 75
        }
      ]
    },
    {
      "cell_type": "code",
      "source": [
        "df.isnull().sum()"
      ],
      "metadata": {
        "colab": {
          "base_uri": "https://localhost:8080/"
        },
        "id": "EZU197ov239T",
        "outputId": "b18a531d-fbb6-467c-9147-174cfbf92008"
      },
      "execution_count": 76,
      "outputs": [
        {
          "output_type": "execute_result",
          "data": {
            "text/plain": [
              "age         0\n",
              "sex         0\n",
              "cp          0\n",
              "trestbps    0\n",
              "chol        0\n",
              "fbs         0\n",
              "restecg     0\n",
              "thalach     0\n",
              "exang       0\n",
              "oldpeak     0\n",
              "slope       0\n",
              "ca          4\n",
              "thal        2\n",
              "num         0\n",
              "dtype: int64"
            ]
          },
          "metadata": {},
          "execution_count": 76
        }
      ]
    },
    {
      "cell_type": "code",
      "source": [
        "procs = [FillMissing,Categorify]\n",
        "dep_var = 'num'\n",
        "cont,cat = cont_cat_split(df, 1,dep_var=dep_var) # o que é continuo e o que é categorico de forma automatica"
      ],
      "metadata": {
        "id": "5lE3sRln3PMB"
      },
      "execution_count": 77,
      "outputs": []
    },
    {
      "cell_type": "code",
      "source": [
        "dls=TabularDataLoaders.from_df(df,path,procs=procs,cat_names= cat,cont_names=cont,y_names=dep_var,bs=64)"
      ],
      "metadata": {
        "id": "uSBRh1WU3o7U"
      },
      "execution_count": 78,
      "outputs": []
    },
    {
      "cell_type": "code",
      "source": [
        "dls.show_batch()"
      ],
      "metadata": {
        "colab": {
          "base_uri": "https://localhost:8080/",
          "height": 363
        },
        "id": "aaa7XrBr43Eo",
        "outputId": "b621c7fa-d4e8-41a4-d71e-e63abee1d5af"
      },
      "execution_count": 79,
      "outputs": [
        {
          "output_type": "display_data",
          "data": {
            "text/plain": [
              "<IPython.core.display.HTML object>"
            ],
            "text/html": [
              "<table border=\"1\" class=\"dataframe\">\n",
              "  <thead>\n",
              "    <tr style=\"text-align: right;\">\n",
              "      <th></th>\n",
              "      <th>ca_na</th>\n",
              "      <th>thal_na</th>\n",
              "      <th>age</th>\n",
              "      <th>sex</th>\n",
              "      <th>cp</th>\n",
              "      <th>trestbps</th>\n",
              "      <th>chol</th>\n",
              "      <th>fbs</th>\n",
              "      <th>restecg</th>\n",
              "      <th>thalach</th>\n",
              "      <th>exang</th>\n",
              "      <th>oldpeak</th>\n",
              "      <th>slope</th>\n",
              "      <th>ca</th>\n",
              "      <th>thal</th>\n",
              "      <th>num</th>\n",
              "    </tr>\n",
              "  </thead>\n",
              "  <tbody>\n",
              "    <tr>\n",
              "      <th>0</th>\n",
              "      <td>False</td>\n",
              "      <td>False</td>\n",
              "      <td>44.0</td>\n",
              "      <td>0.0</td>\n",
              "      <td>3.0</td>\n",
              "      <td>108.0</td>\n",
              "      <td>141.0</td>\n",
              "      <td>0.0</td>\n",
              "      <td>0.0</td>\n",
              "      <td>175.0</td>\n",
              "      <td>0.0</td>\n",
              "      <td>0.6</td>\n",
              "      <td>2.0</td>\n",
              "      <td>0.0</td>\n",
              "      <td>3.0</td>\n",
              "      <td>0.0</td>\n",
              "    </tr>\n",
              "    <tr>\n",
              "      <th>1</th>\n",
              "      <td>False</td>\n",
              "      <td>False</td>\n",
              "      <td>63.0</td>\n",
              "      <td>1.0</td>\n",
              "      <td>1.0</td>\n",
              "      <td>145.0</td>\n",
              "      <td>233.0</td>\n",
              "      <td>1.0</td>\n",
              "      <td>2.0</td>\n",
              "      <td>150.0</td>\n",
              "      <td>0.0</td>\n",
              "      <td>2.3</td>\n",
              "      <td>3.0</td>\n",
              "      <td>0.0</td>\n",
              "      <td>6.0</td>\n",
              "      <td>0.0</td>\n",
              "    </tr>\n",
              "    <tr>\n",
              "      <th>2</th>\n",
              "      <td>False</td>\n",
              "      <td>False</td>\n",
              "      <td>45.0</td>\n",
              "      <td>1.0</td>\n",
              "      <td>1.0</td>\n",
              "      <td>110.0</td>\n",
              "      <td>264.0</td>\n",
              "      <td>0.0</td>\n",
              "      <td>0.0</td>\n",
              "      <td>132.0</td>\n",
              "      <td>0.0</td>\n",
              "      <td>1.2</td>\n",
              "      <td>2.0</td>\n",
              "      <td>0.0</td>\n",
              "      <td>7.0</td>\n",
              "      <td>1.0</td>\n",
              "    </tr>\n",
              "    <tr>\n",
              "      <th>3</th>\n",
              "      <td>False</td>\n",
              "      <td>False</td>\n",
              "      <td>47.0</td>\n",
              "      <td>1.0</td>\n",
              "      <td>3.0</td>\n",
              "      <td>108.0</td>\n",
              "      <td>243.0</td>\n",
              "      <td>0.0</td>\n",
              "      <td>0.0</td>\n",
              "      <td>152.0</td>\n",
              "      <td>0.0</td>\n",
              "      <td>0.0</td>\n",
              "      <td>1.0</td>\n",
              "      <td>0.0</td>\n",
              "      <td>3.0</td>\n",
              "      <td>1.0</td>\n",
              "    </tr>\n",
              "    <tr>\n",
              "      <th>4</th>\n",
              "      <td>False</td>\n",
              "      <td>False</td>\n",
              "      <td>47.0</td>\n",
              "      <td>1.0</td>\n",
              "      <td>3.0</td>\n",
              "      <td>130.0</td>\n",
              "      <td>253.0</td>\n",
              "      <td>0.0</td>\n",
              "      <td>0.0</td>\n",
              "      <td>179.0</td>\n",
              "      <td>0.0</td>\n",
              "      <td>0.0</td>\n",
              "      <td>1.0</td>\n",
              "      <td>0.0</td>\n",
              "      <td>3.0</td>\n",
              "      <td>0.0</td>\n",
              "    </tr>\n",
              "    <tr>\n",
              "      <th>5</th>\n",
              "      <td>False</td>\n",
              "      <td>False</td>\n",
              "      <td>51.0</td>\n",
              "      <td>1.0</td>\n",
              "      <td>3.0</td>\n",
              "      <td>110.0</td>\n",
              "      <td>175.0</td>\n",
              "      <td>0.0</td>\n",
              "      <td>0.0</td>\n",
              "      <td>123.0</td>\n",
              "      <td>0.0</td>\n",
              "      <td>0.6</td>\n",
              "      <td>1.0</td>\n",
              "      <td>0.0</td>\n",
              "      <td>3.0</td>\n",
              "      <td>0.0</td>\n",
              "    </tr>\n",
              "    <tr>\n",
              "      <th>6</th>\n",
              "      <td>False</td>\n",
              "      <td>False</td>\n",
              "      <td>67.0</td>\n",
              "      <td>1.0</td>\n",
              "      <td>4.0</td>\n",
              "      <td>125.0</td>\n",
              "      <td>254.0</td>\n",
              "      <td>1.0</td>\n",
              "      <td>0.0</td>\n",
              "      <td>163.0</td>\n",
              "      <td>0.0</td>\n",
              "      <td>0.2</td>\n",
              "      <td>2.0</td>\n",
              "      <td>2.0</td>\n",
              "      <td>7.0</td>\n",
              "      <td>3.0</td>\n",
              "    </tr>\n",
              "    <tr>\n",
              "      <th>7</th>\n",
              "      <td>False</td>\n",
              "      <td>False</td>\n",
              "      <td>65.0</td>\n",
              "      <td>1.0</td>\n",
              "      <td>4.0</td>\n",
              "      <td>120.0</td>\n",
              "      <td>177.0</td>\n",
              "      <td>0.0</td>\n",
              "      <td>0.0</td>\n",
              "      <td>140.0</td>\n",
              "      <td>0.0</td>\n",
              "      <td>0.4</td>\n",
              "      <td>1.0</td>\n",
              "      <td>0.0</td>\n",
              "      <td>7.0</td>\n",
              "      <td>0.0</td>\n",
              "    </tr>\n",
              "    <tr>\n",
              "      <th>8</th>\n",
              "      <td>False</td>\n",
              "      <td>False</td>\n",
              "      <td>60.0</td>\n",
              "      <td>0.0</td>\n",
              "      <td>3.0</td>\n",
              "      <td>102.0</td>\n",
              "      <td>318.0</td>\n",
              "      <td>0.0</td>\n",
              "      <td>0.0</td>\n",
              "      <td>160.0</td>\n",
              "      <td>0.0</td>\n",
              "      <td>0.0</td>\n",
              "      <td>1.0</td>\n",
              "      <td>1.0</td>\n",
              "      <td>3.0</td>\n",
              "      <td>0.0</td>\n",
              "    </tr>\n",
              "    <tr>\n",
              "      <th>9</th>\n",
              "      <td>False</td>\n",
              "      <td>False</td>\n",
              "      <td>57.0</td>\n",
              "      <td>1.0</td>\n",
              "      <td>4.0</td>\n",
              "      <td>150.0</td>\n",
              "      <td>276.0</td>\n",
              "      <td>0.0</td>\n",
              "      <td>2.0</td>\n",
              "      <td>112.0</td>\n",
              "      <td>1.0</td>\n",
              "      <td>0.6</td>\n",
              "      <td>2.0</td>\n",
              "      <td>1.0</td>\n",
              "      <td>6.0</td>\n",
              "      <td>1.0</td>\n",
              "    </tr>\n",
              "  </tbody>\n",
              "</table>"
            ]
          },
          "metadata": {}
        }
      ]
    },
    {
      "cell_type": "code",
      "source": [
        "learn = tabular_learner(dls, metrics=accuracy)\n",
        "learn.fit_one_cycle(3)"
      ],
      "metadata": {
        "colab": {
          "base_uri": "https://localhost:8080/",
          "height": 143
        },
        "id": "uekWy04M5Im7",
        "outputId": "60f70709-a391-4a6c-df5a-e756f0f136fe"
      },
      "execution_count": 82,
      "outputs": [
        {
          "output_type": "display_data",
          "data": {
            "text/plain": [
              "<IPython.core.display.HTML object>"
            ],
            "text/html": [
              "\n",
              "<style>\n",
              "    /* Turns off some styling */\n",
              "    progress {\n",
              "        /* gets rid of default border in Firefox and Opera. */\n",
              "        border: none;\n",
              "        /* Needs to be in here for Safari polyfill so background images work as expected. */\n",
              "        background-size: auto;\n",
              "    }\n",
              "    progress:not([value]), progress:not([value])::-webkit-progress-bar {\n",
              "        background: repeating-linear-gradient(45deg, #7e7e7e, #7e7e7e 10px, #5c5c5c 10px, #5c5c5c 20px);\n",
              "    }\n",
              "    .progress-bar-interrupted, .progress-bar-interrupted::-webkit-progress-bar {\n",
              "        background: #F44336;\n",
              "    }\n",
              "</style>\n"
            ]
          },
          "metadata": {}
        },
        {
          "output_type": "display_data",
          "data": {
            "text/plain": [
              "<IPython.core.display.HTML object>"
            ],
            "text/html": [
              "<table border=\"1\" class=\"dataframe\">\n",
              "  <thead>\n",
              "    <tr style=\"text-align: left;\">\n",
              "      <th>epoch</th>\n",
              "      <th>train_loss</th>\n",
              "      <th>valid_loss</th>\n",
              "      <th>accuracy</th>\n",
              "      <th>time</th>\n",
              "    </tr>\n",
              "  </thead>\n",
              "  <tbody>\n",
              "    <tr>\n",
              "      <td>0</td>\n",
              "      <td>2.455461</td>\n",
              "      <td>2.676172</td>\n",
              "      <td>0.533333</td>\n",
              "      <td>00:00</td>\n",
              "    </tr>\n",
              "    <tr>\n",
              "      <td>1</td>\n",
              "      <td>2.180379</td>\n",
              "      <td>1.614566</td>\n",
              "      <td>0.533333</td>\n",
              "      <td>00:00</td>\n",
              "    </tr>\n",
              "    <tr>\n",
              "      <td>2</td>\n",
              "      <td>1.951650</td>\n",
              "      <td>1.477993</td>\n",
              "      <td>0.533333</td>\n",
              "      <td>00:00</td>\n",
              "    </tr>\n",
              "  </tbody>\n",
              "</table>"
            ]
          },
          "metadata": {}
        }
      ]
    },
    {
      "cell_type": "code",
      "source": [
        "learn.show_results()"
      ],
      "metadata": {
        "colab": {
          "base_uri": "https://localhost:8080/",
          "height": 331
        },
        "id": "0KmpDtg150ok",
        "outputId": "1ca775ec-2a5d-4d41-87f6-58305c60d44c"
      },
      "execution_count": 81,
      "outputs": [
        {
          "output_type": "display_data",
          "data": {
            "text/plain": [
              "<IPython.core.display.HTML object>"
            ],
            "text/html": [
              "\n",
              "<style>\n",
              "    /* Turns off some styling */\n",
              "    progress {\n",
              "        /* gets rid of default border in Firefox and Opera. */\n",
              "        border: none;\n",
              "        /* Needs to be in here for Safari polyfill so background images work as expected. */\n",
              "        background-size: auto;\n",
              "    }\n",
              "    progress:not([value]), progress:not([value])::-webkit-progress-bar {\n",
              "        background: repeating-linear-gradient(45deg, #7e7e7e, #7e7e7e 10px, #5c5c5c 10px, #5c5c5c 20px);\n",
              "    }\n",
              "    .progress-bar-interrupted, .progress-bar-interrupted::-webkit-progress-bar {\n",
              "        background: #F44336;\n",
              "    }\n",
              "</style>\n"
            ]
          },
          "metadata": {}
        },
        {
          "output_type": "display_data",
          "data": {
            "text/plain": [
              "<IPython.core.display.HTML object>"
            ],
            "text/html": []
          },
          "metadata": {}
        },
        {
          "output_type": "display_data",
          "data": {
            "text/plain": [
              "<IPython.core.display.HTML object>"
            ],
            "text/html": [
              "<table border=\"1\" class=\"dataframe\">\n",
              "  <thead>\n",
              "    <tr style=\"text-align: right;\">\n",
              "      <th></th>\n",
              "      <th>ca_na</th>\n",
              "      <th>thal_na</th>\n",
              "      <th>age</th>\n",
              "      <th>sex</th>\n",
              "      <th>cp</th>\n",
              "      <th>trestbps</th>\n",
              "      <th>chol</th>\n",
              "      <th>fbs</th>\n",
              "      <th>restecg</th>\n",
              "      <th>thalach</th>\n",
              "      <th>exang</th>\n",
              "      <th>oldpeak</th>\n",
              "      <th>slope</th>\n",
              "      <th>ca</th>\n",
              "      <th>thal</th>\n",
              "      <th>num</th>\n",
              "      <th>num_pred</th>\n",
              "    </tr>\n",
              "  </thead>\n",
              "  <tbody>\n",
              "    <tr>\n",
              "      <th>0</th>\n",
              "      <td>1.0</td>\n",
              "      <td>2.0</td>\n",
              "      <td>53.0</td>\n",
              "      <td>0.0</td>\n",
              "      <td>3.0</td>\n",
              "      <td>128.0</td>\n",
              "      <td>216.0</td>\n",
              "      <td>0.0</td>\n",
              "      <td>2.0</td>\n",
              "      <td>115.0</td>\n",
              "      <td>0.0</td>\n",
              "      <td>0.0</td>\n",
              "      <td>1.0</td>\n",
              "      <td>0.0</td>\n",
              "      <td>3.0</td>\n",
              "      <td>0.0</td>\n",
              "      <td>-0.572842</td>\n",
              "    </tr>\n",
              "    <tr>\n",
              "      <th>1</th>\n",
              "      <td>1.0</td>\n",
              "      <td>1.0</td>\n",
              "      <td>69.0</td>\n",
              "      <td>0.0</td>\n",
              "      <td>1.0</td>\n",
              "      <td>140.0</td>\n",
              "      <td>239.0</td>\n",
              "      <td>0.0</td>\n",
              "      <td>0.0</td>\n",
              "      <td>151.0</td>\n",
              "      <td>0.0</td>\n",
              "      <td>1.8</td>\n",
              "      <td>1.0</td>\n",
              "      <td>2.0</td>\n",
              "      <td>3.0</td>\n",
              "      <td>0.0</td>\n",
              "      <td>0.591321</td>\n",
              "    </tr>\n",
              "    <tr>\n",
              "      <th>2</th>\n",
              "      <td>1.0</td>\n",
              "      <td>1.0</td>\n",
              "      <td>60.0</td>\n",
              "      <td>0.0</td>\n",
              "      <td>3.0</td>\n",
              "      <td>120.0</td>\n",
              "      <td>178.0</td>\n",
              "      <td>1.0</td>\n",
              "      <td>0.0</td>\n",
              "      <td>96.0</td>\n",
              "      <td>0.0</td>\n",
              "      <td>0.0</td>\n",
              "      <td>1.0</td>\n",
              "      <td>0.0</td>\n",
              "      <td>3.0</td>\n",
              "      <td>0.0</td>\n",
              "      <td>-0.906652</td>\n",
              "    </tr>\n",
              "    <tr>\n",
              "      <th>3</th>\n",
              "      <td>1.0</td>\n",
              "      <td>1.0</td>\n",
              "      <td>52.0</td>\n",
              "      <td>1.0</td>\n",
              "      <td>1.0</td>\n",
              "      <td>118.0</td>\n",
              "      <td>186.0</td>\n",
              "      <td>0.0</td>\n",
              "      <td>2.0</td>\n",
              "      <td>190.0</td>\n",
              "      <td>0.0</td>\n",
              "      <td>0.0</td>\n",
              "      <td>2.0</td>\n",
              "      <td>0.0</td>\n",
              "      <td>6.0</td>\n",
              "      <td>0.0</td>\n",
              "      <td>-0.817089</td>\n",
              "    </tr>\n",
              "    <tr>\n",
              "      <th>4</th>\n",
              "      <td>1.0</td>\n",
              "      <td>1.0</td>\n",
              "      <td>59.0</td>\n",
              "      <td>1.0</td>\n",
              "      <td>1.0</td>\n",
              "      <td>134.0</td>\n",
              "      <td>204.0</td>\n",
              "      <td>0.0</td>\n",
              "      <td>0.0</td>\n",
              "      <td>162.0</td>\n",
              "      <td>0.0</td>\n",
              "      <td>0.8</td>\n",
              "      <td>1.0</td>\n",
              "      <td>2.0</td>\n",
              "      <td>3.0</td>\n",
              "      <td>1.0</td>\n",
              "      <td>0.247614</td>\n",
              "    </tr>\n",
              "    <tr>\n",
              "      <th>5</th>\n",
              "      <td>1.0</td>\n",
              "      <td>1.0</td>\n",
              "      <td>44.0</td>\n",
              "      <td>1.0</td>\n",
              "      <td>3.0</td>\n",
              "      <td>120.0</td>\n",
              "      <td>226.0</td>\n",
              "      <td>0.0</td>\n",
              "      <td>0.0</td>\n",
              "      <td>169.0</td>\n",
              "      <td>0.0</td>\n",
              "      <td>0.0</td>\n",
              "      <td>1.0</td>\n",
              "      <td>0.0</td>\n",
              "      <td>3.0</td>\n",
              "      <td>0.0</td>\n",
              "      <td>-0.101004</td>\n",
              "    </tr>\n",
              "    <tr>\n",
              "      <th>6</th>\n",
              "      <td>1.0</td>\n",
              "      <td>1.0</td>\n",
              "      <td>44.0</td>\n",
              "      <td>1.0</td>\n",
              "      <td>2.0</td>\n",
              "      <td>120.0</td>\n",
              "      <td>220.0</td>\n",
              "      <td>0.0</td>\n",
              "      <td>0.0</td>\n",
              "      <td>170.0</td>\n",
              "      <td>0.0</td>\n",
              "      <td>0.0</td>\n",
              "      <td>1.0</td>\n",
              "      <td>0.0</td>\n",
              "      <td>3.0</td>\n",
              "      <td>0.0</td>\n",
              "      <td>-0.320205</td>\n",
              "    </tr>\n",
              "    <tr>\n",
              "      <th>7</th>\n",
              "      <td>1.0</td>\n",
              "      <td>1.0</td>\n",
              "      <td>60.0</td>\n",
              "      <td>1.0</td>\n",
              "      <td>4.0</td>\n",
              "      <td>130.0</td>\n",
              "      <td>253.0</td>\n",
              "      <td>0.0</td>\n",
              "      <td>0.0</td>\n",
              "      <td>144.0</td>\n",
              "      <td>1.0</td>\n",
              "      <td>1.4</td>\n",
              "      <td>1.0</td>\n",
              "      <td>1.0</td>\n",
              "      <td>7.0</td>\n",
              "      <td>1.0</td>\n",
              "      <td>1.331685</td>\n",
              "    </tr>\n",
              "    <tr>\n",
              "      <th>8</th>\n",
              "      <td>1.0</td>\n",
              "      <td>1.0</td>\n",
              "      <td>54.0</td>\n",
              "      <td>1.0</td>\n",
              "      <td>4.0</td>\n",
              "      <td>122.0</td>\n",
              "      <td>286.0</td>\n",
              "      <td>0.0</td>\n",
              "      <td>2.0</td>\n",
              "      <td>116.0</td>\n",
              "      <td>1.0</td>\n",
              "      <td>3.2</td>\n",
              "      <td>2.0</td>\n",
              "      <td>2.0</td>\n",
              "      <td>3.0</td>\n",
              "      <td>3.0</td>\n",
              "      <td>1.434691</td>\n",
              "    </tr>\n",
              "  </tbody>\n",
              "</table>"
            ]
          },
          "metadata": {}
        }
      ]
    },
    {
      "cell_type": "code",
      "source": [
        "learn.summary()"
      ],
      "metadata": {
        "colab": {
          "base_uri": "https://localhost:8080/",
          "height": 718
        },
        "id": "2UGWoU8J6Ql4",
        "outputId": "ff59695c-fbb1-4f18-9d00-30adbf70d026"
      },
      "execution_count": 83,
      "outputs": [
        {
          "output_type": "display_data",
          "data": {
            "text/plain": [
              "<IPython.core.display.HTML object>"
            ],
            "text/html": [
              "\n",
              "<style>\n",
              "    /* Turns off some styling */\n",
              "    progress {\n",
              "        /* gets rid of default border in Firefox and Opera. */\n",
              "        border: none;\n",
              "        /* Needs to be in here for Safari polyfill so background images work as expected. */\n",
              "        background-size: auto;\n",
              "    }\n",
              "    progress:not([value]), progress:not([value])::-webkit-progress-bar {\n",
              "        background: repeating-linear-gradient(45deg, #7e7e7e, #7e7e7e 10px, #5c5c5c 10px, #5c5c5c 20px);\n",
              "    }\n",
              "    .progress-bar-interrupted, .progress-bar-interrupted::-webkit-progress-bar {\n",
              "        background: #F44336;\n",
              "    }\n",
              "</style>\n"
            ]
          },
          "metadata": {}
        },
        {
          "output_type": "display_data",
          "data": {
            "text/plain": [
              "<IPython.core.display.HTML object>"
            ],
            "text/html": []
          },
          "metadata": {}
        },
        {
          "output_type": "execute_result",
          "data": {
            "text/plain": [
              "TabularModel (Input shape: 64 x 2)\n",
              "============================================================================\n",
              "Layer (type)         Output Shape         Param #    Trainable \n",
              "============================================================================\n",
              "                     64 x 3              \n",
              "Embedding                                 9          True      \n",
              "Embedding                                 9          True      \n",
              "Dropout                                                        \n",
              "BatchNorm1d                               26         True      \n",
              "____________________________________________________________________________\n",
              "                     64 x 200            \n",
              "Linear                                    3800       True      \n",
              "ReLU                                                           \n",
              "BatchNorm1d                               400        True      \n",
              "____________________________________________________________________________\n",
              "                     64 x 100            \n",
              "Linear                                    20000      True      \n",
              "ReLU                                                           \n",
              "BatchNorm1d                               200        True      \n",
              "____________________________________________________________________________\n",
              "                     64 x 1              \n",
              "Linear                                    101        True      \n",
              "____________________________________________________________________________\n",
              "\n",
              "Total params: 24,545\n",
              "Total trainable params: 24,545\n",
              "Total non-trainable params: 0\n",
              "\n",
              "Optimizer used: <function Adam at 0x7d3032161fc0>\n",
              "Loss function: FlattenedLoss of MSELoss()\n",
              "\n",
              "Model unfrozen\n",
              "\n",
              "Callbacks:\n",
              "  - TrainEvalCallback\n",
              "  - CastToTensor\n",
              "  - Recorder\n",
              "  - ProgressCallback"
            ],
            "application/vnd.google.colaboratory.intrinsic+json": {
              "type": "string"
            }
          },
          "metadata": {},
          "execution_count": 83
        }
      ]
    },
    {
      "cell_type": "markdown",
      "source": [
        "# Step 3 - Turning the Model into an Online Application"
      ],
      "metadata": {
        "id": "qiPO8_n1xTsy"
      }
    },
    {
      "cell_type": "code",
      "source": [
        "import os\n",
        "\n",
        "os.makedirs('models', exist_ok=True)\n",
        "\n",
        "learn.export('HeartDisease.pkl')"
      ],
      "metadata": {
        "id": "Esh1D_Iy7_rB"
      },
      "execution_count": 85,
      "outputs": []
    },
    {
      "cell_type": "markdown",
      "source": [
        "https://huggingface.co/spaces/fastaioncampus/HeartDiseases"
      ],
      "metadata": {
        "id": "6YijSRQBxXKJ"
      }
    }
  ]
}